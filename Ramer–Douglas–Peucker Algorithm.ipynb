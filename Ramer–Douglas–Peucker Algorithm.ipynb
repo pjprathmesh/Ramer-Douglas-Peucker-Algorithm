{
 "cells": [
  {
   "cell_type": "code",
   "execution_count": 1,
   "metadata": {},
   "outputs": [
    {
     "name": "stdout",
     "output_type": "stream",
     "text": [
      "20.151708874395148\n",
      "4.0\n",
      "30.21932406871159\n",
      "[(150, 150), (150, 300), (150, 300), (250, 20), (250, 20), (400, 150), (400, 150), (520, 60), (520, 60), (590, 80)]\n"
     ]
    }
   ],
   "source": [
    "import cv2\n",
    "import numpy as np\n",
    "import matplotlib.pyplot as plt\n",
    "from math import sin,cos,acos,pi,sqrt,asin\n",
    "img = cv2.imread('C:\\\\Users\\\\PRATHMESH\\\\Desktop\\\\shape.png',0)\n",
    "zero=np.zeros(img.shape)\n",
    "zero2=np.zeros(img.shape)\n",
    "eps=400\n",
    "def perpendi(a):\n",
    "    if len(a)<=2:\n",
    "\n",
    "        return a\n",
    "    elif len(a)==3:\n",
    "        x=(a[0][0],a[0][1])\n",
    "        z=(a[len(a)-1][0],a[len(a)-1][1])\n",
    "        y=(a[1][0],a[1][1])\n",
    "        x1=(y[0]-x[0],y[1]-x[1])\n",
    "        mag_u=sqrt(x1[0]**2+x1[1]**2)\n",
    "        y1=(z[0]-x[0],z[1]-x[1])\n",
    "        mag_v=sqrt(y1[0]**2+y1[1]**2)\n",
    "        w1=(x1[0]*y1[0])+(x1[1]*y1[1])\n",
    "        w1=w1/mag_v\n",
    "        w2=sqrt((x1[0]**2+x1[1]**2)-w1**2)\n",
    "        print(w2)\n",
    "        if w2<eps:\n",
    "\n",
    "            return [x,z]\n",
    "        else:\n",
    "\n",
    "            return[x,y,z]\n",
    "    else:\n",
    "        x=(a[0][0],a[0][1])\n",
    "        z=(a[len(a)-1][0],a[len(a)-1][1])\n",
    "        maxx=0\n",
    "        mid=0\n",
    "        for i in range(1,len(a)-1):\n",
    "            y=(a[i][0],a[i][1])\n",
    "            \n",
    "\n",
    "            x1=(y[0]-x[0],y[1]-x[1])\n",
    "            mag_u=sqrt(x1[0]**2+x1[1]**2)\n",
    "            y1=(z[0]-x[0],z[1]-x[1])\n",
    "            mag_v=sqrt(y1[0]**2+y1[1]**2)\n",
    "\n",
    "            w1=(x1[0]*y1[0])+(x1[1]*y1[1])\n",
    "            w1=w1/mag_v\n",
    "\n",
    "            w2=sqrt((x1[0]**2+x1[1]**2)-w1**2)\n",
    "\n",
    "            if w2>maxx:\n",
    "                maxx=w2\n",
    "                mid=i\n",
    "        ret1=perpendi(a[:mid+1])\n",
    "        ret2=perpendi(a[mid:])\n",
    "        \n",
    "        return ret1+ret2\n",
    "        \n",
    "        \n",
    "pts = np.array([(150,150),(150,300),(250,20),(300,90),(400,150),(500,70),(520,60),(550,100),(590,80)], np.int32)\n",
    "pt=[(150,150),(150,300),(250,20),(300,90),(400,150),(500,70),(520,60),(550,100),(590,80)]\n",
    "cv2.polylines(zero,[pts],True,(255))\n",
    "lis=perpendi(pt)\n",
    "\n",
    "print(lis)\n",
    "cv2.polylines(zero2,[np.array(lis,np.int32)],True,(255),1)\n",
    "cv2.imshow('image',zero)\n",
    "cv2.imshow('image2',zero2)\n",
    "k = cv2.waitKey(0)\n",
    "if k == 27: \n",
    "    cv2.destroyAllWindows()"
   ]
  }
 ],
 "metadata": {
  "kernelspec": {
   "display_name": "Python 3",
   "language": "python",
   "name": "python3"
  },
  "language_info": {
   "codemirror_mode": {
    "name": "ipython",
    "version": 3
   },
   "file_extension": ".py",
   "mimetype": "text/x-python",
   "name": "python",
   "nbconvert_exporter": "python",
   "pygments_lexer": "ipython3",
   "version": "3.7.4"
  }
 },
 "nbformat": 4,
 "nbformat_minor": 2
}
